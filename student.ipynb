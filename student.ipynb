{
 "cells": [
  {
   "cell_type": "code",
   "execution_count": null,
   "id": "0561ae72-d4c6-455b-b115-3561cef8529e",
   "metadata": {},
   "outputs": [],
   "source": [
    "import pandas as pd\n",
    "from sklearn.linear_model import LogisticRegression\n",
    "from sklearn.model_selection import train_test_split\n",
    "from sklearn.preprocessing import LabelEncoder\n",
    "from sklearn.metrics import accuracy_score\n",
    "\n",
    "df = pd.read_csv(\"E:\\\\students.csv\")\n",
    "le = LabelEncoder()\n",
    "df['Parent_Education'] = le.fit_transform(df['Parent_Education'])\n",
    "\n",
    "train_data = df[df['Passed'].notnull()]\n",
    "predict_data = df[df['Passed'].isnull()]\n",
    "\n",
    "x = train_data.drop(['Passed', 'Roll_No'], axis=1)\n",
    "y = train_data['Passed']\n",
    "\n",
    "x_train,x_test,y_train,y_test = train_test_split(x,y, test_size=0.2, random_state=42)\n",
    "\n",
    "model = LogisticRegression()\n",
    "model.fit(x_train,y_train)\n",
    "\n",
    "y_pred = model.predict(x_test)\n",
    "accuracy = accuracy_score(y_test,y_pred)\n",
    "print(\"model accuracy:\", accuracy)\n",
    "\n",
    "if not predict_data.empty:\n",
    "    X_new = predict_data.drop(['Passed', 'Roll_No'], axis=1)\n",
    "    roll_nums = predict_data['Roll_No'].values\n",
    "    predictions = model.predict(X_new)\n",
    "\n",
    "    print(\"\\n CSV Predictions:\")\n",
    "    for roll, res in zip(roll_nums, predictions):\n",
    "        print(f\"Roll No {roll} => {'Pass ' if res == 1 else 'Fail '}\")\n",
    "else:\n",
    "    print(\"\\n No new students found in CSV for prediction.\")\n",
    "\n",
    "choice = input(\"\\ndo you add manually data? (yes/no): \").lower()\n",
    "\n",
    "if choice == \"yes\":\n",
    "    try:\n",
    "        hs = float(input(\"Hours Studied: \"))\n",
    "        att = float(input(\"Attendance (%): \"))\n",
    "        marks = float(input(\"Previous Marks: \"))\n",
    "        pe = input(\"Parent Education (Highschool / Graduate / Postgraduate): \")\n",
    "        pe_encoded = le.transform([pe])[0]\n",
    "\n",
    "        manual_data = pd.DataFrame({\n",
    "            'Hours_Studied': [hs],\n",
    "            'Attendance': [att],\n",
    "            'Previous_Marks': [marks],\n",
    "            'Parent_Education': [pe_encoded]\n",
    "        })\n",
    "\n",
    "        result = model.predict(manual_data)[0]\n",
    "        print(\"\\n Manual Prediction Result:\", \"Pass \" if result == 1 else \"Fail \")\n",
    "    except Exception as e:\n",
    "        print(\"input erroe:\",e)"
   ]
  },
  {
   "cell_type": "code",
   "execution_count": null,
   "id": "b6f2c3d2-f84a-445a-9224-da3892656396",
   "metadata": {},
   "outputs": [],
   "source": []
  }
 ],
 "metadata": {
  "kernelspec": {
   "display_name": "Python 3 (ipykernel)",
   "language": "python",
   "name": "python3"
  },
  "language_info": {
   "codemirror_mode": {
    "name": "ipython",
    "version": 3
   },
   "file_extension": ".py",
   "mimetype": "text/x-python",
   "name": "python",
   "nbconvert_exporter": "python",
   "pygments_lexer": "ipython3",
   "version": "3.12.7"
  }
 },
 "nbformat": 4,
 "nbformat_minor": 5
}
